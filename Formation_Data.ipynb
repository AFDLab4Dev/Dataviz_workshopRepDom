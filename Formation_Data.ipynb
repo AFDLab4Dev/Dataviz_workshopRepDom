{
 "cells": [
  {
   "cell_type": "markdown",
   "metadata": {
    "slideshow": {
     "slide_type": "slide"
    }
   },
   "source": [
    "<small><i><b>1er Septembre 2017</b> Agence</i><br>\n",
    "Etienne David - Agence Française de Développement<br>\n",
    "Twitter: [@EtienneDavid](https://twitter.com/EtienneDavid) || *[Retrouvez le cours sur Github](https://github.com/AFDLab4Dev)*</small>\n",
    "\n",
    "## Introduction à la donnée (\"Data\")\n",
    "\n",
    "\n"
   ]
  },
  {
   "cell_type": "markdown",
   "metadata": {
    "slideshow": {
     "slide_type": "slide"
    }
   },
   "source": [
    "\"A data scientist is someone who is better at statistics than any software engineer and better at software engineering than any statistician.\"\n",
    "\n",
    "    \n",
    "<center><img src='http://stats4dev.com/prez/cool_data_3.gif' style='height:250px'></center>\n",
    "\n"
   ]
  },
  {
   "cell_type": "markdown",
   "metadata": {
    "slideshow": {
     "slide_type": "slide"
    }
   },
   "source": [
    "### <span style=\"color:rgb(0,125,164)\">Introduction: </span> <span style=\"color:rgb(103,189,227);\">Data et Développement</span>   "
   ]
  },
  {
   "cell_type": "markdown",
   "metadata": {
    "slideshow": {
     "slide_type": "slide"
    }
   },
   "source": [
    "# <span style=\"color:rgb(0,125,164); font-family:Arial;\"><b>Utiliser </b></span><span style=\"color:rgb(103,189,227); font-family:Arial\"><b> le \"Big Data\" </b></span><span style=\"color:rgb(0,125,164); font-family:Arial;\"><b>pour</b></span><span style=\"color:rgb(103,189,227); font-family:Arial\"><b> le développement</b></span>\n",
    "<h4> Nouveaux capteurs: </h4>\n",
    "<table span style=\"margin-left:35px; border:0px solid white !important\"><td style=\"border:0px solid white !important\">\n",
    "<table span style=\"margin-left:0px;  border:0px solid white !important\"><td style=\"border:0px solid white !important\"><img src=\"http://www.stats4dev.com/dataviz/cell.png\"></td><td style=\"border:0px solid white !important\"><b>Téléphone mobile</b></td></table>\n",
    "Mobilité, Migration, épidemie | Pauvreté, Consommation, Cohésion sociale | Démographie\n",
    "\n",
    "<table span style=\"margin-left:0px\"><td><img src=\"http://www.stats4dev.com/dataviz/sat.png\"></td><td><b>Imagerie Satellite</b><td style=\"border:0px solid white !important\"></table>\n",
    "Pauvreté / inégalité (émission de lumière) | Emission de gaz à effet de serre | Vulnérabilité aux changements climatiques, sol, agriculture, forêts, etc.\n",
    "</td></table>\n",
    "<br><br>\n",
    "<h4> Réseaux sociaux/ Perceptions</h4>\n",
    "<table span style=\"margin-left:40px; border:0px solid white !important\"><td style=\"border:0px solid white !important\"><img src=\"http://www.stats4dev.com/dataviz/socialnet.png\"></td><td style=\"border:0px solid white !important\"><b>Social Networks</b></td></table>"
   ]
  },
  {
   "cell_type": "markdown",
   "metadata": {
    "slideshow": {
     "slide_type": "slide"
    }
   },
   "source": [
    "# <center> <span style=\"color:rgb(0,125,164); font-family:Arial;\"><b> Data Story #1:</b></span><span style=\"color:rgb(103,189,227); font-family:Arial;\"><b> Comment cartographier le transport artisanal ?</b></span></center>\n",
    "<img src=https://en.ogpsummit.org/osem/system/commercials/images/000/000/467/original/MEST_TROTRO_APP-8.jpg?1476435143 alt=\"Drawing\" style=\"width: 100%;\"/>"
   ]
  },
  {
   "cell_type": "markdown",
   "metadata": {
    "slideshow": {
     "slide_type": "slide"
    }
   },
   "source": [
    "# <center> 60% des villes n'ont pas de plan de transport public</center>\n",
    "\n",
    "<table>\n",
    "    <tr>\n",
    "        <th>\n",
    "        <img src=\"https://nanawireko.files.wordpress.com/2011/08/trotro-transport-proud-african-accra-ghana1152_12922383426-tpfil02aw-17566.jpg\" alt=\"Drawing\" style=\"height: 250px;\"/>\n",
    "        </th>\n",
    "        <th>\n",
    "        <img src=\"http://afriqueinside.com/wp-content/uploads/2015/10/lenovo-africa.jpg\" alt=\"Drawing\" style=\"height: 250px;\"/>\n",
    "        </th>\n",
    "\n",
    "    </tr>\n",
    "    <tr>\n",
    "    <th>\n",
    "        <img src=\"http://egyptianstreets.com/wp-content/uploads/2014/06/2013-634981743711014669-101_resized.jpg\" alt=\"Drawing\" style=\"height: 250px;\"/>\n",
    "    </th>\n",
    "    <th>\n",
    "<img src=\"https://3dwnh01icn0h133s00sokwo1-wpengine.netdna-ssl.com/wp-content/uploads/2015/06/matatu1.jpg\" alt=\"Drawing\" style=\"height: 250px;\"/>\n",
    "</th>\n",
    "</tr>\n",
    "</table>"
   ]
  },
  {
   "cell_type": "markdown",
   "metadata": {
    "slideshow": {
     "slide_type": "slide"
    }
   },
   "source": [
    "# <center> Nouveaux senseurs = Nouvelles possibilités</center>\n",
    "\n",
    "\n",
    "<table>\n",
    "<tr>\n",
    "<th>\n",
    "<img src=\"http://www.digitalmatatus.com/img/about/app.jpg\" alt=\"Drawing\" style=\"height: 500px;\"/>\n",
    "</th>\n",
    "<th>\n",
    "\n",
    "     \n",
    "        <img src=\"http://www.digitalmatatus.com/img/about/collection2.jpg\" alt=\"Drawing\" style=\"height: 500px;\"/>\n",
    "        </th>\n",
    "        </tr>"
   ]
  },
  {
   "cell_type": "markdown",
   "metadata": {
    "slideshow": {
     "slide_type": "slide"
    }
   },
   "source": [
    "# <center> Résultats Nairobi</center>\n",
    "\n",
    "<img src=\"img4.jpg\" alt=\"Drawing\" style=\"width: 100%;\"/>\n",
    "\n"
   ]
  },
  {
   "cell_type": "code",
   "execution_count": 67,
   "metadata": {
    "slideshow": {
     "slide_type": "slide"
    }
   },
   "outputs": [
    {
     "data": {
      "text/html": [
       "<center><h1>Et l'AFD ? (plan d'Accra en construction)</h1></center><br><iframe src=\"http://beta.dataspace.fr/ghana\" scrolling=\"no\" frameborder=\"0\" width=100%\" height=\"675\"></iframe>"
      ],
      "text/plain": [
       "<IPython.core.display.HTML object>"
      ]
     },
     "execution_count": 67,
     "metadata": {},
     "output_type": "execute_result"
    }
   ],
   "source": [
    "from IPython.display import HTML\n",
    "from IPython.display import IFrame\n",
    "HTML('''<center><h1>Et l'AFD ? (plan d'Accra en construction)</h1></center><br><iframe src=\"http://beta.dataspace.fr/ghana\" scrolling=\"no\" frameborder=\"0\" width=100%\" height=\"675\"></iframe>''')"
   ]
  },
  {
   "cell_type": "markdown",
   "metadata": {
    "slideshow": {
     "slide_type": "slide"
    }
   },
   "source": [
    "# <center><span style=\"color:rgb(0,125,164); font-family:Arial;\"><b> Data Story 2:</b></span><span style=\"color:rgb(103,189,227); font-family:Arial;\"><b>Evaluer en temps réel les vulnérabilités par l'imagerie satellite</b></span><center>\n",
    "<img src='http://www.stats4dev.com/prez/SEN.png'>\n"
   ]
  },
  {
   "cell_type": "markdown",
   "metadata": {
    "slideshow": {
     "slide_type": "slide"
    }
   },
   "source": [
    "## Croiser <span style=\"color:rgb(76,81,83);\"> les risques géophysiques</span> et <span style=\"color:rgb(76,81,83);\">la vulnérabilité sociale</span>\n",
    "<img src='http://www.stats4dev.com/prez/hydrosocio.png'>"
   ]
  },
  {
   "cell_type": "markdown",
   "metadata": {
    "slideshow": {
     "slide_type": "slide"
    }
   },
   "source": [
    "## En  <span style=\"color:rgb(76,81,83);\">Bref</span>\n",
    "\n",
    "- **Construction d'une base de données des inondations**\n",
    "    - Starting from Dartmouth Flood Obs.\n",
    "    - Sat. Images + crowsourcing information\n",
    "    \n",
    "- **Algorithms and ML to predict floodings**\n",
    "    - model, evaluate, predict, dynamic process\n",
    "\n",
    "<img src='http://www.stats4dev.com/prez/processSEN.png'>\n",
    "\n",
    "- **Mix with socio-economic data**\n",
    "    - Census + CDR pop density (V2 social incl)\n",
    "    - Pop. Density, child, spendings, unemployment, disability..\n",
    "    \n",
    "To learn more <a href=\"https://www.youtube.com/watch?v=W7Ogja4ukSI\">Presentation by Beth Tellamn</a>"
   ]
  },
  {
   "cell_type": "markdown",
   "metadata": {
    "slideshow": {
     "slide_type": "slide"
    }
   },
   "source": [
    "<img src='http://www.stats4dev.com/prez/vulnerability.png'>"
   ]
  },
  {
   "cell_type": "markdown",
   "metadata": {
    "slideshow": {
     "slide_type": "slide"
    }
   },
   "source": [
    "# <center> Mais pourquoi parle t-on de <span style=\"color:rgb(0,125,164); font-family:Arial;\">BIG</span> Data ?"
   ]
  },
  {
   "cell_type": "markdown",
   "metadata": {},
   "source": [
    "## Hier... \n",
    "\n",
    "### Les données d'hier...:\n",
    "- Se partagent à la main\n",
    "- Sont mises à jour à la main\n",
    "- Difficiles d'en exploiter beaucoup à la fois\n",
    "\n",
    "## Exemple: Excel"
   ]
  },
  {
   "cell_type": "markdown",
   "metadata": {
    "slideshow": {
     "slide_type": "slide"
    }
   },
   "source": [
    "## Et internet arriva !\n",
    "\n",
    "<center><img src='http://i.imgur.com/LOJcBvp.gif'>"
   ]
  },
  {
   "cell_type": "markdown",
   "metadata": {
    "slideshow": {
     "slide_type": "slide"
    }
   },
   "source": [
    "## Aujourd'hui...\n",
    "\n",
    "### Un accès contrôlé, une mise à jour automatique, et une exploitation facilitée\n",
    "\n",
    "<img src='https://msdnshared.blob.core.windows.net/media/MSDNBlogsFS/prod.evol.blogs.msdn.com/CommunityServer.Blogs.Components.WeblogFiles/00/00/00/56/73/2318.WithAPIArchitecture.PNG'></img>"
   ]
  },
  {
   "cell_type": "markdown",
   "metadata": {
    "slideshow": {
     "slide_type": "slide"
    }
   },
   "source": [
    "# Conséquences\n",
    "\n",
    "- On passe de la bouteille d'eau au tuyau: Les applications web (comme les Dataviz) se mettent automatiquement à jour\n",
    "- Les volumes de données créés et échangés évoluent exponentiellement\n",
    "- <i> De nouveaux types de données sont créés </i>"
   ]
  },
  {
   "cell_type": "markdown",
   "metadata": {
    "slideshow": {
     "slide_type": "slide"
    }
   },
   "source": [
    "## <span style=\"color:rgb(0,125,164); font-family:Arial;\"><b> Data Story 3:</b></span><span style=\"color:rgb(103,189,227); font-family:Arial;\"><b> Les réseaux sociaux, nouveaux thermomètres</b></span>\n",
    "\n",
    "<table span style=\"margin-left:0px; border:0px solid white !important\"><td style=\"border:0px solid white !important\"><img src=\"http://stats4dev.com/dataviz/IN.png\"></td><td style=\"border:0px solid white !important\"><b>LinkedIn: Un immense potentiel de recherche</b></td></table>\n",
    "<small>Micro: Individus | Meso: Industries | Macro: National/international</small>\n",
    "\n",
    "<img src=\"http://stats4dev.com/dataviz/MSocialNetwork.png\" width=\"100%\">"
   ]
  },
  {
   "cell_type": "markdown",
   "metadata": {
    "slideshow": {
     "slide_type": "slide"
    }
   },
   "source": [
    "## <span style=\"color:rgb(103,189,227); font-family:Arial;\"><b>Big Data ou Smart Data </b></span><span style=\"color:rgb(0,125,164); font-family:Arial;\"><b>?</b></span>\n",
    "- <b>Avoir beaucoup de données ne veut pas dire avoir des données utiles</b>: Exemple du e-marketing ...\n",
    "- <b>Le besoin d'outils traditionnels comme la statistique</b>\n"
   ]
  },
  {
   "cell_type": "markdown",
   "metadata": {
    "slideshow": {
     "slide_type": "slide"
    }
   },
   "source": [
    "## <span style=\"color:rgb(103,189,227); font-family:Arial;\"><b>Big Data et éthique </b></span><span style=\"color:rgb(0,125,164); font-family:Arial;\"><b>Comment profiter de tout le potentiel sans mettre en danger l'utilisateur?</b></span>\n",
    "\n",
    "### Exemple projet AFD/Orange à Dakar (LIEN)\n",
    "\n",
    "<b>Partager la donnée peut être *risqué* et *difficile*</b>...\n",
    "-  <b>Vie privée</b> des consommateurs (l'anonymisation est difficile)\n",
    "-  <b>Concurrence</b> en jeu (la donnée peut être stratégique)\n",
    "-  <b>Coût</b> des projets (pour les infrastructures de sécurisation)\n",
    "\n",
    "<b>Implique de discuter avec des nombreuses parties prenantes</b>\n",
    "\n",
    "- Juridique, marketing, Strategie, CA, etc.\n",
    "- Autorité de protection des données, régulation des telco, etc."
   ]
  },
  {
   "cell_type": "code",
   "execution_count": 66,
   "metadata": {
    "slideshow": {
     "slide_type": "slide"
    }
   },
   "outputs": [
    {
     "data": {
      "text/html": [
       "<center><h1><span style=\"color:rgb(0,125,164); font-family:Arial;\"><b> Au menu:</b></span><span style=\"color:rgb(103,189,227); font-family:Arial;\"><b> Réalisons votre première Data Story !</b></span></h1><br><iframe src=\"https://giphy.com/embed/citBl9yPwnUOs\" width=\"480\" height=\"360\" frameBorder=\"0\" class=\"giphy-embed\" allowFullScreen></iframe><p><a href=\"https://giphy.com/gifs/the-simpsons-computer-confused-citBl9yPwnUOs\">via GIPHY</center></a></p>"
      ],
      "text/plain": [
       "<IPython.core.display.HTML object>"
      ]
     },
     "execution_count": 66,
     "metadata": {},
     "output_type": "execute_result"
    }
   ],
   "source": [
    "HTML('''<center><h1><span style=\"color:rgb(0,125,164); font-family:Arial;\"><b> Au menu:</b></span><span style=\"color:rgb(103,189,227); font-family:Arial;\"><b> Réalisons votre première Data Story !</b></span></h1><br><iframe src=\"https://giphy.com/embed/citBl9yPwnUOs\" width=\"480\" height=\"360\" frameBorder=\"0\" class=\"giphy-embed\" allowFullScreen></iframe><p><a href=\"https://giphy.com/gifs/the-simpsons-computer-confused-citBl9yPwnUOs\">via GIPHY</center></a></p>''')"
   ]
  },
  {
   "cell_type": "markdown",
   "metadata": {
    "slideshow": {
     "slide_type": "slide"
    }
   },
   "source": [
    "## A propos des #DataStory\n",
    "\n",
    "- Une #DataStory est l'analyse #DataDriven d'une zone géographique ou encore d'une thématique.\n",
    "- Elle a pour objectif d'identifier des besoins locaux pour maximiser et prioriser nos activités \n",
    "- C'est enfin un outil de capitalisation et de communication qui a vocation à être approprié, amélioré, répliqué.\n",
    "\n"
   ]
  },
  {
   "cell_type": "code",
   "execution_count": 47,
   "metadata": {
    "slideshow": {
     "slide_type": "slide"
    }
   },
   "outputs": [
    {
     "data": {
      "text/html": [
       "<center><h1><span style=\"color:rgb(0,125,164); font-family:Arial;\"><b> Data Story 4:</b></span><span style=\"color:rgb(103,189,227); font-family:Arial;\"><b>Initiative Sahel</b></span> </h1><iframe src=\"http://data.afd.fr/datastory/Initiative+Sahel.html\" scrolling=\"no\" frameborder=\"0\" width=100%\" height=\"675\"></iframe>'</center>"
      ],
      "text/plain": [
       "<IPython.core.display.HTML object>"
      ]
     },
     "execution_count": 47,
     "metadata": {},
     "output_type": "execute_result"
    }
   ],
   "source": [
    "HTML('''<center><h1><span style=\"color:rgb(0,125,164); font-family:Arial;\"><b> Data Story 4 :</b></span><span style=\"color:rgb(103,189,227); font-family:Arial;\"><b>Initiative Sahel</b></span> </h1><iframe src=\"http://data.afd.fr/datastory/Initiative+Sahel.html\" scrolling=\"no\" frameborder=\"0\" width=100%\" height=\"675\"></iframe>'</center>''')"
   ]
  },
  {
   "cell_type": "markdown",
   "metadata": {
    "slideshow": {
     "slide_type": "slide"
    }
   },
   "source": [
    "## A travers votre #Datastory\n",
    "\n",
    "__Vous allez apprendre à:__\n",
    "- Avoir des bases de HTML et CSS\n",
    "- Intégrer des datavisualisations à des pages internet\n",
    "- Découvrir de nombreux outils pour faire vos propres Dataviz ! \n",
    "   - OpenData AFD\n",
    "   - web apps data.afd.fr\n",
    "   - Carto\n",
    "   - HighCharts"
   ]
  },
  {
   "cell_type": "markdown",
   "metadata": {
    "slideshow": {
     "slide_type": "slide"
    }
   },
   "source": [
    "# Mais... Qu'est ce qu'une Dataviz ? \n",
    "\n",
    "<img src='http://stats4dev.com/prez/veinDatavizInfographic.png'></img>\n",
    "\n",
    "- Une façon de projeter la donnée\n",
    "- Si c'est interactif, c'est encore mieux ;)\n",
    "- La plupart du temps réalisée avec des technologies web (HTML, javascript)"
   ]
  },
  {
   "cell_type": "markdown",
   "metadata": {
    "slideshow": {
     "slide_type": "slide"
    }
   },
   "source": [
    "# Pourquoi en faire ?\n",
    "\n",
    "<img src='http://blog.revolutionanalytics.com/downloads/DataSaurus%20Dozen.gif'></img>\n",
    "\n",
    "<center> Souvent les nombres n'en disent pas assez</center>"
   ]
  },
  {
   "cell_type": "markdown",
   "metadata": {},
   "source": [
    "# Un peu d'histoire\n",
    "\n",
    "### Circa 1810, Charles Joseph Minard Carte Figurative of Napoleon’s 1812 campaign\n",
    "\n",
    "<img src='http://adaptivesystemsinc.com/wp-content/uploads/2015/05/Napoleons-March-Graph2.png'></img>"
   ]
  },
  {
   "cell_type": "markdown",
   "metadata": {
    "slideshow": {
     "slide_type": "slide"
    }
   },
   "source": [
    "### Circa 1890, WEB Du Bois African American activist\n",
    "\n",
    "<img src='https://datavizblog.files.wordpress.com/2017/02/33887v__600x0_q85_upscale.jpg'></img>\n"
   ]
  },
  {
   "cell_type": "markdown",
   "metadata": {
    "slideshow": {
     "slide_type": "slide"
    }
   },
   "source": [
    "# <center> Remember: Internet\n",
    "\n",
    "<img src='http://i.imgur.com/LOJcBvp.gif'></img></center>"
   ]
  },
  {
   "cell_type": "code",
   "execution_count": 48,
   "metadata": {
    "slideshow": {
     "slide_type": "slide"
    }
   },
   "outputs": [
    {
     "data": {
      "text/html": [
       "<iframe src=\"http://www.oecdbetterlifeindex.org/#/11111111111\" scrolling=\"no\" frameborder=\"0\" width=100%\" height=\"675\"></iframe>"
      ],
      "text/plain": [
       "<IPython.core.display.HTML object>"
      ]
     },
     "execution_count": 48,
     "metadata": {},
     "output_type": "execute_result"
    }
   ],
   "source": [
    "HTML('''<iframe src=\"http://www.oecdbetterlifeindex.org/#/11111111111\" scrolling=\"no\" frameborder=\"0\" width=100%\" height=\"675\"></iframe>''')"
   ]
  },
  {
   "cell_type": "markdown",
   "metadata": {
    "slideshow": {
     "slide_type": "slide"
    }
   },
   "source": [
    "# Ca commence maintenant !\n",
    "\n",
    "- Ouvrez avec Notepad ++ le fichier \"datastory_repdom.html'\n",
    "- HTML = C'est un fichier texte qui sera interpréter par le navigateur\n",
    "- C'est le \"squelette\" d'une page web\n",
    "- <a href=\"www.lemonde.fr\">Voyons voir le site du Monde</a>"
   ]
  },
  {
   "cell_type": "raw",
   "metadata": {
    "slideshow": {
     "slide_type": "slide"
    }
   },
   "source": [
    "<h2> a. Basic introduction to HTML, CSS</h2>             \n",
    "<br>\n",
    "<h1>Hello world ! </h1>\n",
    "<br>\n",
    "<span style=\"color:red; font-size:36px; font-family:Magneto \">\n",
    "Hello world! with style</span>"
   ]
  },
  {
   "cell_type": "code",
   "execution_count": 49,
   "metadata": {
    "slideshow": {
     "slide_type": "slide"
    }
   },
   "outputs": [
    {
     "data": {
      "text/html": [
       "\n",
       "\n",
       "<h2> a. Basic introduction to HTML, CSS</h2>             \n",
       "<br>\n",
       "<h1>Hello world ! </h1>\n",
       "<br>\n",
       "<span style=\"color:red; font-size:36px; font-family:Magneto \">\n",
       "Hello world! with style</span>\n",
       "            \n"
      ],
      "text/plain": [
       "<IPython.core.display.HTML object>"
      ]
     },
     "metadata": {},
     "output_type": "display_data"
    }
   ],
   "source": [
    "from IPython.core.display import display, HTML\n",
    "display(HTML('''\n",
    "\n",
    "<h2> a. Basic introduction to HTML, CSS</h2>             \n",
    "<br>\n",
    "<h1>Hello world ! </h1>\n",
    "<br>\n",
    "<span style=\"color:red; font-size:36px; font-family:Magneto \">\n",
    "Hello world! with style</span>\n",
    "            \n",
    "'''))"
   ]
  },
  {
   "cell_type": "markdown",
   "metadata": {
    "slideshow": {
     "slide_type": "slide"
    }
   },
   "source": [
    "## Les balises HTML\n",
    "\n"
   ]
  },
  {
   "cell_type": "raw",
   "metadata": {},
   "source": [
    "\n",
    "- Ouvrir une balise: <> close </>\n",
    "- Paragraphe: <p>\n",
    "- Titre: <h1>Big title</h1> et <h2>Smaller title</h2>\n",
    "- Gras: <b> Bold text</b>\n",
    "- Italic: <i>italic text</i>\n",
    "- Saut de ligne <br>\n",
    "- Barre horizontale <hr>\n",
    "- lien <a href=\"www.link.com\">Link</a>\n",
    "- image <img src=\"imageadress\".png>\n",
    "- iframe: <iframe scr=\"http://www.afd.fr\"></iframe>"
   ]
  },
  {
   "cell_type": "markdown",
   "metadata": {
    "slideshow": {
     "slide_type": "slide"
    }
   },
   "source": [
    "## Exercice 1\n",
    "\n",
    "__Rajouter une nouvelle partie à la datastory__\n",
    "\n",
    "- Une partie a un titre < h1 >\n",
    "- Une partie a des sous-titres < h2 >\n",
    "- Une partie a des paragraphes < p >\n",
    "\n",
    "__Bravo, vous avez créé votre premier contenu web !__"
   ]
  },
  {
   "cell_type": "markdown",
   "metadata": {
    "slideshow": {
     "slide_type": "slide"
    }
   },
   "source": [
    "## Exercice 2\n",
    "\n",
    "__Rajoutons des images à notre Datastory__\n",
    "\n",
    "- <a href=\"www.google.fr\"> Allons chercher des images sur internet !</a>\n",
    "- A vous de jouer, rajoutez deux images à votre datastory ! \n",
    "- Rappel: pour intégrer une image, rajoutez < img src=\"XXXXXXX\">"
   ]
  },
  {
   "cell_type": "markdown",
   "metadata": {
    "slideshow": {
     "slide_type": "slide"
    }
   },
   "source": [
    "## HTML & CSS\n",
    "\n",
    "- Le CSS définit le style d'une page web\n",
    "- Si le HTML était le \"squelette\", le CSS serait les \"vêtements\" du web\n",
    "- <a href=\"gaia.afd.fr\">Allons jeter un coup d'oeil à Gaïa</a>"
   ]
  },
  {
   "cell_type": "markdown",
   "metadata": {
    "slideshow": {
     "slide_type": "slide"
    }
   },
   "source": [
    "## Web et Javascript\n",
    "\n",
    "- Le Javascript est le langage qui permet de faire \"bouger\" le squelette et le rendre dynamique\n",
    "- Si nous ne le détaillerons pas, il est derrière les outils que nous allons utiliser !"
   ]
  },
  {
   "cell_type": "markdown",
   "metadata": {
    "slideshow": {
     "slide_type": "slide"
    }
   },
   "source": [
    "## OK, passons aux Dataviz !"
   ]
  },
  {
   "cell_type": "markdown",
   "metadata": {
    "slideshow": {
     "slide_type": "-"
    }
   },
   "source": [
    "Dans une page web, il existe deux façons de créer une dataviz:\n",
    "- Soit la coder soi-même avec du javascript (web-app data.afd.fr)\n",
    "- Soit intégrer du code fait par quelqu'un d'autre sur sa page grâce à la puissance de < iframe >\n",
    "- La balise < iframe> permet d'intégrer une page web dans une autre"
   ]
  },
  {
   "cell_type": "raw",
   "metadata": {
    "slideshow": {
     "slide_type": "slide"
    }
   },
   "source": [
    "<center><iframe width=\"100%\" height=\"400px\"  src=\"http://beta.dataspace.fr/city\" width=frameBorder=\"0\" allowFullScreen></iframe></center>"
   ]
  },
  {
   "cell_type": "code",
   "execution_count": 57,
   "metadata": {
    "scrolled": true
   },
   "outputs": [
    {
     "data": {
      "text/html": [
       "<center><iframe width=\"100%\" height=\"400px\"  src=\"http://beta.dataspace.fr/city\" width=frameBorder=\"0\" allowFullScreen></iframe></center>"
      ],
      "text/plain": [
       "<IPython.core.display.HTML object>"
      ]
     },
     "execution_count": 57,
     "metadata": {},
     "output_type": "execute_result"
    }
   ],
   "source": [
    "HTML('''<center><iframe width=\"100%\" height=\"400px\"  src=\"http://beta.dataspace.fr/city\" width=frameBorder=\"0\" allowFullScreen></iframe></center>''')"
   ]
  },
  {
   "cell_type": "markdown",
   "metadata": {
    "slideshow": {
     "slide_type": "slide"
    }
   },
   "source": [
    "## Exercice 4: intégrer une page web dans une autre\n",
    "\n",
    "- Reprenons le fichier de la datastory\n",
    "- Copier-coller le code ci-dessous. C'est une webapp de l'AFD, basée sur les données de la Banque Mondiale, avec des données sur la République Dominicaine\n",
    "- < iframe width=\"100%\" height=\"485\" src=\"http://data.afd.fr/DataTools/DHS/DHS_app.html\" allowfullscreen=\"allowfullscreen\" scrolling:\"no\" frameborder=\"0\">< /iframe> \n",
    "\n",
    "__Vous avez maintenant tous les outils pour faire votre propre DataStory !__"
   ]
  },
  {
   "cell_type": "markdown",
   "metadata": {
    "slideshow": {
     "slide_type": "slide"
    }
   },
   "source": [
    "# Maintenant, les outils ! \n",
    "\n",
    "- Vous avez à présent tous les pré-requis pour faire une Dataviz, bravo !\n",
    "- Nous allons maintenant vous présenter des outils permettant de faire de superbes Dataviz ! "
   ]
  },
  {
   "cell_type": "markdown",
   "metadata": {
    "slideshow": {
     "slide_type": "slide"
    }
   },
   "source": [
    "# 1- Les outils AFD\n",
    "\n",
    "- OpenData AFD\n",
    "- data.afd.fr \n"
   ]
  },
  {
   "cell_type": "markdown",
   "metadata": {
    "slideshow": {
     "slide_type": "slide"
    }
   },
   "source": [
    "# OpenData AFD"
   ]
  },
  {
   "cell_type": "code",
   "execution_count": 61,
   "metadata": {},
   "outputs": [
    {
     "data": {
      "text/html": [
       "<center><iframe width=\"100%\" height=\"500px\"  src=\"https://opendata.afd.fr/page/accueil/\" width=frameBorder=\"0\" allowFullScreen></iframe></center>"
      ],
      "text/plain": [
       "<IPython.core.display.HTML object>"
      ]
     },
     "execution_count": 61,
     "metadata": {},
     "output_type": "execute_result"
    }
   ],
   "source": [
    "HTML('''<center><iframe width=\"100%\" height=\"500px\"  src=\"https://opendata.afd.fr/page/accueil/\" width=frameBorder=\"0\" allowFullScreen></iframe></center>''')"
   ]
  },
  {
   "cell_type": "markdown",
   "metadata": {
    "slideshow": {
     "slide_type": "slide"
    }
   },
   "source": [
    "# Récapitulatif\n",
    "- Dans l'onglet \"Données\", trouve les données de Proparco/MEAE/AFD\n",
    "- En cliquant sur \"Carte\" on peut créer des cartes. Une fois terminé, je copie-colle le lien \"Intégrer\" sous la carte pour l'intégrer à ma dataviz\n",
    "- En cliquant sur \"Analyse\"je peux créer des graphes\n",
    "\n",
    "On essaie d'intégrer un graphe et une carte ?"
   ]
  },
  {
   "cell_type": "markdown",
   "metadata": {
    "slideshow": {
     "slide_type": "slide"
    }
   },
   "source": [
    "# data.afd.fr\n"
   ]
  },
  {
   "cell_type": "code",
   "execution_count": 62,
   "metadata": {},
   "outputs": [
    {
     "data": {
      "text/html": [
       "<center><iframe width=\"100%\" height=\"500px\"  src=\"http://data.afd.fr\" width=frameBorder=\"0\" allowFullScreen></iframe></center>"
      ],
      "text/plain": [
       "<IPython.core.display.HTML object>"
      ]
     },
     "execution_count": 62,
     "metadata": {},
     "output_type": "execute_result"
    }
   ],
   "source": [
    "HTML('''<center><iframe width=\"100%\" height=\"500px\"  src=\"http://data.afd.fr\" width=frameBorder=\"0\" allowFullScreen></iframe></center>''')"
   ]
  },
  {
   "cell_type": "markdown",
   "metadata": {
    "collapsed": true,
    "slideshow": {
     "slide_type": "slide"
    }
   },
   "source": [
    "# Récapitulatif\n",
    "\n",
    "- Une section \"Outils\" pour aider le travail des agents AFD. Certains sont intégrables dans une datastory\n",
    "- Une section \"Lab\" présentant des projets de l'équipe Data\n",
    "- Une section \"Datastory\" présentant les meilleures réutilisations \n"
   ]
  },
  {
   "cell_type": "markdown",
   "metadata": {
    "slideshow": {
     "slide_type": "slide"
    }
   },
   "source": [
    "# Urban Dashboard "
   ]
  },
  {
   "cell_type": "code",
   "execution_count": 64,
   "metadata": {},
   "outputs": [
    {
     "data": {
      "text/html": [
       "<center><iframe width=\"100%\" height=\"500px\"  src=\"http://beta.dataspace.fr\" width=frameBorder=\"0\" allowFullScreen></iframe></center>"
      ],
      "text/plain": [
       "<IPython.core.display.HTML object>"
      ]
     },
     "execution_count": 64,
     "metadata": {},
     "output_type": "execute_result"
    }
   ],
   "source": [
    "HTML('''<center><iframe width=\"100%\" height=\"500px\"  src=\"http://beta.dataspace.fr\" width=frameBorder=\"0\" allowFullScreen></iframe></center>''')"
   ]
  },
  {
   "cell_type": "markdown",
   "metadata": {
    "slideshow": {
     "slide_type": "slide"
    }
   },
   "source": [
    "# Carto\n",
    "\n",
    "Map Conflict in Sahel Region with ACLED dataset"
   ]
  },
  {
   "cell_type": "code",
   "execution_count": null,
   "metadata": {
    "collapsed": true
   },
   "outputs": [],
   "source": [
    "HTML('<iframe width=\"100%\" height=\"520\" frameborder=\"0\" src=\"https://rocathomas.carto.com/builder/a0c9d70c-5767-11e7-948d-0ef7f98ade21/embed\" allowfullscreen webkitallowfullscreen mozallowfullscreen oallowfullscreen msallowfullscreen></iframe>')"
   ]
  },
  {
   "cell_type": "markdown",
   "metadata": {},
   "source": [
    "# Récapitulatif\n",
    "\n",
    "* Connection au compte carto\n",
    "* Glisser/déposer son jeu de données (présent dans les annexes du cours)\n",
    "* Créer la géométrie\n",
    "   * Sélectionner le type de géométrie (Pays ou régions administratives ?)\n",
    "   * Sélectionner la colonne correspondante\n",
    "* Cliquer sur l'édition de style et sélectionner la colonne de valeur\n",
    "* Rajouter un pop-up\n",
    "* Partagez la carte et la rajouter sur la dataviz"
   ]
  },
  {
   "cell_type": "markdown",
   "metadata": {
    "slideshow": {
     "slide_type": "slide"
    }
   },
   "source": [
    "# Highcharts + Google Doc\n",
    "- Connection au compte highcharts\n",
    "- Choix des graphes\n",
    "- Connection à un google doc\n",
    "- Intégration à la page web"
   ]
  },
  {
   "cell_type": "markdown",
   "metadata": {
    "slideshow": {
     "slide_type": "slide"
    }
   },
   "source": [
    "# <center> Bravo, vous avez fini votre première Datastory !</center>"
   ]
  },
  {
   "cell_type": "code",
   "execution_count": 52,
   "metadata": {},
   "outputs": [
    {
     "name": "stderr",
     "output_type": "stream",
     "text": [
      "/home/etienne/anaconda3/lib/python3.6/site-packages/IPython/utils/path.py:283: UserWarning: locate_profile has moved to the IPython.paths module\n",
      "  warn(\"locate_profile has moved to the IPython.paths module\")\n"
     ]
    },
    {
     "data": {
      "text/plain": [
       "{'height': '80%',\n",
       " 'start_slideshow_at': 'selected',\n",
       " 'theme': 'white',\n",
       " 'transition': 'slide',\n",
       " 'width': '100%'}"
      ]
     },
     "execution_count": 52,
     "metadata": {},
     "output_type": "execute_result"
    }
   ],
   "source": [
    "from notebook.services.config import ConfigManager\n",
    "from IPython.utils.path import locate_profile\n",
    "cm = ConfigManager(profile_dir=locate_profile(get_ipython().profile))\n",
    "cm.update('livereveal', {\n",
    "                  'theme': 'white',\n",
    "\n",
    "              'start_slideshow_at': 'selected',\n",
    "                'height': '80%',\n",
    "    'transition':'slide',\n",
    "    'width':'100%',\n",
    "})\n"
   ]
  },
  {
   "cell_type": "code",
   "execution_count": 60,
   "metadata": {
    "slideshow": {
     "slide_type": "skip"
    }
   },
   "outputs": [
    {
     "data": {
      "text/html": [
       "<script>\n",
       "code_show=true; \n",
       "function code_toggle() {\n",
       " if (code_show){\n",
       " $('div.input').hide();\n",
       " } else {\n",
       " $('div.input').show();\n",
       " }\n",
       " code_show = !code_show\n",
       "} \n",
       "$( document ).ready(code_toggle);\n",
       "</script>\n",
       "The raw code for this IPython notebook is by default hidden for easier reading.\n",
       "To toggle on/off the raw code, click <a href=\"javascript:code_toggle()\">here</a>."
      ],
      "text/plain": [
       "<IPython.core.display.HTML object>"
      ]
     },
     "execution_count": 60,
     "metadata": {},
     "output_type": "execute_result"
    }
   ],
   "source": [
    "from IPython.display import HTML\n",
    "from IPython.display import IFrame\n",
    "HTML('''<script>\n",
    "code_show=true; \n",
    "function code_toggle() {\n",
    " if (code_show){\n",
    " $('div.input').hide();\n",
    " } else {\n",
    " $('div.input').show();\n",
    " }\n",
    " code_show = !code_show\n",
    "} \n",
    "$( document ).ready(code_toggle);\n",
    "</script>\n",
    "The raw code for this IPython notebook is by default hidden for easier reading.\n",
    "To toggle on/off the raw code, click <a href=\"javascript:code_toggle()\">here</a>.''')"
   ]
  }
 ],
 "metadata": {
  "celltoolbar": "Slideshow",
  "kernelspec": {
   "display_name": "Python 3",
   "language": "python",
   "name": "python3"
  },
  "language_info": {
   "codemirror_mode": {
    "name": "ipython",
    "version": 3
   },
   "file_extension": ".py",
   "mimetype": "text/x-python",
   "name": "python",
   "nbconvert_exporter": "python",
   "pygments_lexer": "ipython3",
   "version": "3.6.0"
  }
 },
 "nbformat": 4,
 "nbformat_minor": 1
}
